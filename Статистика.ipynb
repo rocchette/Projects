{
 "cells": [
  {
   "cell_type": "markdown",
   "id": "9d556d70",
   "metadata": {},
   "source": [
    "# Прогнозирование прибыли с помощью построения корреляционной матрицы, линейной и множественной моделей регрессии"
   ]
  },
  {
   "cell_type": "code",
   "execution_count": 225,
   "id": "0abe57bf",
   "metadata": {},
   "outputs": [],
   "source": [
    "import pandas as pd\n",
    "import numpy as np\n",
    "import seaborn as sns\n",
    "import matplotlib.pyplot as plt\n",
    "import scipy.stats\n",
    "from sklearn import metrics\n",
    "import statsmodels.api as sm\n",
    "from sklearn.linear_model import LinearRegression"
   ]
  },
  {
   "cell_type": "code",
   "execution_count": 4,
   "id": "3f2225ab",
   "metadata": {},
   "outputs": [],
   "source": [
    "df=pd.read_csv('50_Startups.csv', sep=',')"
   ]
  },
  {
   "cell_type": "code",
   "execution_count": 5,
   "id": "de413d15",
   "metadata": {},
   "outputs": [
    {
     "data": {
      "text/html": [
       "<div>\n",
       "<style scoped>\n",
       "    .dataframe tbody tr th:only-of-type {\n",
       "        vertical-align: middle;\n",
       "    }\n",
       "\n",
       "    .dataframe tbody tr th {\n",
       "        vertical-align: top;\n",
       "    }\n",
       "\n",
       "    .dataframe thead th {\n",
       "        text-align: right;\n",
       "    }\n",
       "</style>\n",
       "<table border=\"1\" class=\"dataframe\">\n",
       "  <thead>\n",
       "    <tr style=\"text-align: right;\">\n",
       "      <th></th>\n",
       "      <th>R&amp;D Spend</th>\n",
       "      <th>Administration</th>\n",
       "      <th>Marketing Spend</th>\n",
       "      <th>State</th>\n",
       "      <th>Profit</th>\n",
       "    </tr>\n",
       "  </thead>\n",
       "  <tbody>\n",
       "    <tr>\n",
       "      <th>0</th>\n",
       "      <td>165349.20</td>\n",
       "      <td>136897.80</td>\n",
       "      <td>471784.10</td>\n",
       "      <td>New York</td>\n",
       "      <td>192261.83</td>\n",
       "    </tr>\n",
       "    <tr>\n",
       "      <th>1</th>\n",
       "      <td>162597.70</td>\n",
       "      <td>151377.59</td>\n",
       "      <td>443898.53</td>\n",
       "      <td>California</td>\n",
       "      <td>191792.06</td>\n",
       "    </tr>\n",
       "    <tr>\n",
       "      <th>2</th>\n",
       "      <td>153441.51</td>\n",
       "      <td>101145.55</td>\n",
       "      <td>407934.54</td>\n",
       "      <td>Florida</td>\n",
       "      <td>191050.39</td>\n",
       "    </tr>\n",
       "    <tr>\n",
       "      <th>3</th>\n",
       "      <td>144372.41</td>\n",
       "      <td>118671.85</td>\n",
       "      <td>383199.62</td>\n",
       "      <td>New York</td>\n",
       "      <td>182901.99</td>\n",
       "    </tr>\n",
       "    <tr>\n",
       "      <th>4</th>\n",
       "      <td>142107.34</td>\n",
       "      <td>91391.77</td>\n",
       "      <td>366168.42</td>\n",
       "      <td>Florida</td>\n",
       "      <td>166187.94</td>\n",
       "    </tr>\n",
       "  </tbody>\n",
       "</table>\n",
       "</div>"
      ],
      "text/plain": [
       "   R&D Spend  Administration  Marketing Spend       State     Profit\n",
       "0  165349.20       136897.80        471784.10    New York  192261.83\n",
       "1  162597.70       151377.59        443898.53  California  191792.06\n",
       "2  153441.51       101145.55        407934.54     Florida  191050.39\n",
       "3  144372.41       118671.85        383199.62    New York  182901.99\n",
       "4  142107.34        91391.77        366168.42     Florida  166187.94"
      ]
     },
     "execution_count": 5,
     "metadata": {},
     "output_type": "execute_result"
    }
   ],
   "source": [
    "df.head()"
   ]
  },
  {
   "cell_type": "code",
   "execution_count": 6,
   "id": "f50ac434",
   "metadata": {},
   "outputs": [
    {
     "name": "stdout",
     "output_type": "stream",
     "text": [
      "<class 'pandas.core.frame.DataFrame'>\n",
      "RangeIndex: 50 entries, 0 to 49\n",
      "Data columns (total 5 columns):\n",
      " #   Column           Non-Null Count  Dtype  \n",
      "---  ------           --------------  -----  \n",
      " 0   R&D Spend        50 non-null     float64\n",
      " 1   Administration   50 non-null     float64\n",
      " 2   Marketing Spend  50 non-null     float64\n",
      " 3   State            50 non-null     object \n",
      " 4   Profit           50 non-null     float64\n",
      "dtypes: float64(4), object(1)\n",
      "memory usage: 2.1+ KB\n"
     ]
    }
   ],
   "source": [
    "df.info()"
   ]
  },
  {
   "cell_type": "code",
   "execution_count": 28,
   "id": "5459c679",
   "metadata": {},
   "outputs": [
    {
     "data": {
      "text/html": [
       "<div>\n",
       "<style scoped>\n",
       "    .dataframe tbody tr th:only-of-type {\n",
       "        vertical-align: middle;\n",
       "    }\n",
       "\n",
       "    .dataframe tbody tr th {\n",
       "        vertical-align: top;\n",
       "    }\n",
       "\n",
       "    .dataframe thead th {\n",
       "        text-align: right;\n",
       "    }\n",
       "</style>\n",
       "<table border=\"1\" class=\"dataframe\">\n",
       "  <thead>\n",
       "    <tr style=\"text-align: right;\">\n",
       "      <th></th>\n",
       "      <th>r_d_spend</th>\n",
       "      <th>administration</th>\n",
       "      <th>marketing_spend</th>\n",
       "      <th>state</th>\n",
       "      <th>profit</th>\n",
       "      <th>summary</th>\n",
       "    </tr>\n",
       "  </thead>\n",
       "  <tbody>\n",
       "    <tr>\n",
       "      <th>0</th>\n",
       "      <td>165349.20</td>\n",
       "      <td>136897.80</td>\n",
       "      <td>471784.10</td>\n",
       "      <td>New York</td>\n",
       "      <td>192261.83</td>\n",
       "      <td>774031.10</td>\n",
       "    </tr>\n",
       "    <tr>\n",
       "      <th>1</th>\n",
       "      <td>162597.70</td>\n",
       "      <td>151377.59</td>\n",
       "      <td>443898.53</td>\n",
       "      <td>California</td>\n",
       "      <td>191792.06</td>\n",
       "      <td>757873.82</td>\n",
       "    </tr>\n",
       "    <tr>\n",
       "      <th>2</th>\n",
       "      <td>153441.51</td>\n",
       "      <td>101145.55</td>\n",
       "      <td>407934.54</td>\n",
       "      <td>Florida</td>\n",
       "      <td>191050.39</td>\n",
       "      <td>662521.60</td>\n",
       "    </tr>\n",
       "    <tr>\n",
       "      <th>3</th>\n",
       "      <td>144372.41</td>\n",
       "      <td>118671.85</td>\n",
       "      <td>383199.62</td>\n",
       "      <td>New York</td>\n",
       "      <td>182901.99</td>\n",
       "      <td>646243.88</td>\n",
       "    </tr>\n",
       "    <tr>\n",
       "      <th>4</th>\n",
       "      <td>142107.34</td>\n",
       "      <td>91391.77</td>\n",
       "      <td>366168.42</td>\n",
       "      <td>Florida</td>\n",
       "      <td>166187.94</td>\n",
       "      <td>599667.53</td>\n",
       "    </tr>\n",
       "  </tbody>\n",
       "</table>\n",
       "</div>"
      ],
      "text/plain": [
       "   r_d_spend  administration  marketing_spend       state     profit  \\\n",
       "0  165349.20       136897.80        471784.10    New York  192261.83   \n",
       "1  162597.70       151377.59        443898.53  California  191792.06   \n",
       "2  153441.51       101145.55        407934.54     Florida  191050.39   \n",
       "3  144372.41       118671.85        383199.62    New York  182901.99   \n",
       "4  142107.34        91391.77        366168.42     Florida  166187.94   \n",
       "\n",
       "     summary  \n",
       "0  774031.10  \n",
       "1  757873.82  \n",
       "2  662521.60  \n",
       "3  646243.88  \n",
       "4  599667.53  "
      ]
     },
     "execution_count": 28,
     "metadata": {},
     "output_type": "execute_result"
    }
   ],
   "source": [
    "df=df.rename(columns=lambda x: x.lower().replace(' ','_').replace('&','_'))\n",
    "df.head()"
   ]
  },
  {
   "cell_type": "markdown",
   "id": "192a220b",
   "metadata": {},
   "source": [
    "# Определение штата, в котором максимальная прибыль"
   ]
  },
  {
   "cell_type": "code",
   "execution_count": 29,
   "id": "2b368866",
   "metadata": {},
   "outputs": [
    {
     "data": {
      "text/html": [
       "<div>\n",
       "<style scoped>\n",
       "    .dataframe tbody tr th:only-of-type {\n",
       "        vertical-align: middle;\n",
       "    }\n",
       "\n",
       "    .dataframe tbody tr th {\n",
       "        vertical-align: top;\n",
       "    }\n",
       "\n",
       "    .dataframe thead th {\n",
       "        text-align: right;\n",
       "    }\n",
       "</style>\n",
       "<table border=\"1\" class=\"dataframe\">\n",
       "  <thead>\n",
       "    <tr style=\"text-align: right;\">\n",
       "      <th></th>\n",
       "      <th>profit</th>\n",
       "    </tr>\n",
       "    <tr>\n",
       "      <th>state</th>\n",
       "      <th></th>\n",
       "    </tr>\n",
       "  </thead>\n",
       "  <tbody>\n",
       "    <tr>\n",
       "      <th>New York</th>\n",
       "      <td>1933859.59</td>\n",
       "    </tr>\n",
       "    <tr>\n",
       "      <th>Florida</th>\n",
       "      <td>1900384.39</td>\n",
       "    </tr>\n",
       "    <tr>\n",
       "      <th>California</th>\n",
       "      <td>1766387.98</td>\n",
       "    </tr>\n",
       "  </tbody>\n",
       "</table>\n",
       "</div>"
      ],
      "text/plain": [
       "                profit\n",
       "state                 \n",
       "New York    1933859.59\n",
       "Florida     1900384.39\n",
       "California  1766387.98"
      ]
     },
     "execution_count": 29,
     "metadata": {},
     "output_type": "execute_result"
    }
   ],
   "source": [
    "df.groupby('state').agg({'profit':'sum'}).sort_values('profit', ascending=False)"
   ]
  },
  {
   "cell_type": "markdown",
   "id": "11bd6d8f",
   "metadata": {},
   "source": [
    "Максимальная прибыль в штате Нью-Йорк."
   ]
  },
  {
   "cell_type": "markdown",
   "id": "dd52cad8",
   "metadata": {},
   "source": [
    "# Сумма расходов на разработку, маркетинговых и административных расходов"
   ]
  },
  {
   "cell_type": "code",
   "execution_count": 30,
   "id": "60f0952d",
   "metadata": {},
   "outputs": [
    {
     "data": {
      "text/html": [
       "<div>\n",
       "<style scoped>\n",
       "    .dataframe tbody tr th:only-of-type {\n",
       "        vertical-align: middle;\n",
       "    }\n",
       "\n",
       "    .dataframe tbody tr th {\n",
       "        vertical-align: top;\n",
       "    }\n",
       "\n",
       "    .dataframe thead th {\n",
       "        text-align: right;\n",
       "    }\n",
       "</style>\n",
       "<table border=\"1\" class=\"dataframe\">\n",
       "  <thead>\n",
       "    <tr style=\"text-align: right;\">\n",
       "      <th></th>\n",
       "      <th>r_d_spend</th>\n",
       "      <th>administration</th>\n",
       "      <th>marketing_spend</th>\n",
       "      <th>state</th>\n",
       "      <th>profit</th>\n",
       "      <th>summary</th>\n",
       "    </tr>\n",
       "  </thead>\n",
       "  <tbody>\n",
       "    <tr>\n",
       "      <th>0</th>\n",
       "      <td>165349.20</td>\n",
       "      <td>136897.80</td>\n",
       "      <td>471784.10</td>\n",
       "      <td>New York</td>\n",
       "      <td>192261.83</td>\n",
       "      <td>774031.10</td>\n",
       "    </tr>\n",
       "    <tr>\n",
       "      <th>1</th>\n",
       "      <td>162597.70</td>\n",
       "      <td>151377.59</td>\n",
       "      <td>443898.53</td>\n",
       "      <td>California</td>\n",
       "      <td>191792.06</td>\n",
       "      <td>757873.82</td>\n",
       "    </tr>\n",
       "    <tr>\n",
       "      <th>2</th>\n",
       "      <td>153441.51</td>\n",
       "      <td>101145.55</td>\n",
       "      <td>407934.54</td>\n",
       "      <td>Florida</td>\n",
       "      <td>191050.39</td>\n",
       "      <td>662521.60</td>\n",
       "    </tr>\n",
       "    <tr>\n",
       "      <th>3</th>\n",
       "      <td>144372.41</td>\n",
       "      <td>118671.85</td>\n",
       "      <td>383199.62</td>\n",
       "      <td>New York</td>\n",
       "      <td>182901.99</td>\n",
       "      <td>646243.88</td>\n",
       "    </tr>\n",
       "    <tr>\n",
       "      <th>4</th>\n",
       "      <td>142107.34</td>\n",
       "      <td>91391.77</td>\n",
       "      <td>366168.42</td>\n",
       "      <td>Florida</td>\n",
       "      <td>166187.94</td>\n",
       "      <td>599667.53</td>\n",
       "    </tr>\n",
       "  </tbody>\n",
       "</table>\n",
       "</div>"
      ],
      "text/plain": [
       "   r_d_spend  administration  marketing_spend       state     profit  \\\n",
       "0  165349.20       136897.80        471784.10    New York  192261.83   \n",
       "1  162597.70       151377.59        443898.53  California  191792.06   \n",
       "2  153441.51       101145.55        407934.54     Florida  191050.39   \n",
       "3  144372.41       118671.85        383199.62    New York  182901.99   \n",
       "4  142107.34        91391.77        366168.42     Florida  166187.94   \n",
       "\n",
       "     summary  \n",
       "0  774031.10  \n",
       "1  757873.82  \n",
       "2  662521.60  \n",
       "3  646243.88  \n",
       "4  599667.53  "
      ]
     },
     "execution_count": 30,
     "metadata": {},
     "output_type": "execute_result"
    }
   ],
   "source": [
    "df['summary']=df.r_d_spend+df.administration+df.marketing_spend\n",
    "df.head()"
   ]
  },
  {
   "cell_type": "markdown",
   "id": "04ff418f",
   "metadata": {},
   "source": [
    "# Доля каждого вида расходов от общей суммы"
   ]
  },
  {
   "cell_type": "code",
   "execution_count": 32,
   "id": "e3e20b5b",
   "metadata": {},
   "outputs": [
    {
     "data": {
      "text/html": [
       "<div>\n",
       "<style scoped>\n",
       "    .dataframe tbody tr th:only-of-type {\n",
       "        vertical-align: middle;\n",
       "    }\n",
       "\n",
       "    .dataframe tbody tr th {\n",
       "        vertical-align: top;\n",
       "    }\n",
       "\n",
       "    .dataframe thead th {\n",
       "        text-align: right;\n",
       "    }\n",
       "</style>\n",
       "<table border=\"1\" class=\"dataframe\">\n",
       "  <thead>\n",
       "    <tr style=\"text-align: right;\">\n",
       "      <th></th>\n",
       "      <th>r_d_spend</th>\n",
       "      <th>administration</th>\n",
       "      <th>marketing_spend</th>\n",
       "      <th>state</th>\n",
       "      <th>profit</th>\n",
       "      <th>summary</th>\n",
       "      <th>share_r_d_spend</th>\n",
       "      <th>share_administration</th>\n",
       "      <th>share_marketing_spend</th>\n",
       "    </tr>\n",
       "  </thead>\n",
       "  <tbody>\n",
       "    <tr>\n",
       "      <th>0</th>\n",
       "      <td>165349.20</td>\n",
       "      <td>136897.80</td>\n",
       "      <td>471784.10</td>\n",
       "      <td>New York</td>\n",
       "      <td>192261.83</td>\n",
       "      <td>774031.10</td>\n",
       "      <td>0.213621</td>\n",
       "      <td>0.176863</td>\n",
       "      <td>0.609516</td>\n",
       "    </tr>\n",
       "    <tr>\n",
       "      <th>1</th>\n",
       "      <td>162597.70</td>\n",
       "      <td>151377.59</td>\n",
       "      <td>443898.53</td>\n",
       "      <td>California</td>\n",
       "      <td>191792.06</td>\n",
       "      <td>757873.82</td>\n",
       "      <td>0.214545</td>\n",
       "      <td>0.199740</td>\n",
       "      <td>0.585716</td>\n",
       "    </tr>\n",
       "    <tr>\n",
       "      <th>2</th>\n",
       "      <td>153441.51</td>\n",
       "      <td>101145.55</td>\n",
       "      <td>407934.54</td>\n",
       "      <td>Florida</td>\n",
       "      <td>191050.39</td>\n",
       "      <td>662521.60</td>\n",
       "      <td>0.231602</td>\n",
       "      <td>0.152668</td>\n",
       "      <td>0.615730</td>\n",
       "    </tr>\n",
       "    <tr>\n",
       "      <th>3</th>\n",
       "      <td>144372.41</td>\n",
       "      <td>118671.85</td>\n",
       "      <td>383199.62</td>\n",
       "      <td>New York</td>\n",
       "      <td>182901.99</td>\n",
       "      <td>646243.88</td>\n",
       "      <td>0.223402</td>\n",
       "      <td>0.183633</td>\n",
       "      <td>0.592964</td>\n",
       "    </tr>\n",
       "    <tr>\n",
       "      <th>4</th>\n",
       "      <td>142107.34</td>\n",
       "      <td>91391.77</td>\n",
       "      <td>366168.42</td>\n",
       "      <td>Florida</td>\n",
       "      <td>166187.94</td>\n",
       "      <td>599667.53</td>\n",
       "      <td>0.236977</td>\n",
       "      <td>0.152404</td>\n",
       "      <td>0.610619</td>\n",
       "    </tr>\n",
       "  </tbody>\n",
       "</table>\n",
       "</div>"
      ],
      "text/plain": [
       "   r_d_spend  administration  marketing_spend       state     profit  \\\n",
       "0  165349.20       136897.80        471784.10    New York  192261.83   \n",
       "1  162597.70       151377.59        443898.53  California  191792.06   \n",
       "2  153441.51       101145.55        407934.54     Florida  191050.39   \n",
       "3  144372.41       118671.85        383199.62    New York  182901.99   \n",
       "4  142107.34        91391.77        366168.42     Florida  166187.94   \n",
       "\n",
       "     summary  share_r_d_spend  share_administration  share_marketing_spend  \n",
       "0  774031.10         0.213621              0.176863               0.609516  \n",
       "1  757873.82         0.214545              0.199740               0.585716  \n",
       "2  662521.60         0.231602              0.152668               0.615730  \n",
       "3  646243.88         0.223402              0.183633               0.592964  \n",
       "4  599667.53         0.236977              0.152404               0.610619  "
      ]
     },
     "execution_count": 32,
     "metadata": {},
     "output_type": "execute_result"
    }
   ],
   "source": [
    "df['share_r_d_spend']=df.r_d_spend/df.summary\n",
    "df['share_administration']=df.administration/df.summary\n",
    "df['share_marketing_spend']=df.marketing_spend/df.summary\n",
    "\n",
    "df.head()"
   ]
  },
  {
   "cell_type": "markdown",
   "id": "c52a9338",
   "metadata": {},
   "source": [
    "# Количество компаний, у которых значение прибыли больше медианного для каждого штата"
   ]
  },
  {
   "cell_type": "code",
   "execution_count": 143,
   "id": "63581734",
   "metadata": {},
   "outputs": [
    {
     "data": {
      "text/html": [
       "<div>\n",
       "<style scoped>\n",
       "    .dataframe tbody tr th:only-of-type {\n",
       "        vertical-align: middle;\n",
       "    }\n",
       "\n",
       "    .dataframe tbody tr th {\n",
       "        vertical-align: top;\n",
       "    }\n",
       "\n",
       "    .dataframe thead th {\n",
       "        text-align: right;\n",
       "    }\n",
       "</style>\n",
       "<table border=\"1\" class=\"dataframe\">\n",
       "  <thead>\n",
       "    <tr style=\"text-align: right;\">\n",
       "      <th></th>\n",
       "      <th>profit</th>\n",
       "    </tr>\n",
       "    <tr>\n",
       "      <th>state</th>\n",
       "      <th></th>\n",
       "    </tr>\n",
       "  </thead>\n",
       "  <tbody>\n",
       "    <tr>\n",
       "      <th>California</th>\n",
       "      <td>97427.84</td>\n",
       "    </tr>\n",
       "    <tr>\n",
       "      <th>Florida</th>\n",
       "      <td>109543.12</td>\n",
       "    </tr>\n",
       "    <tr>\n",
       "      <th>New York</th>\n",
       "      <td>108552.04</td>\n",
       "    </tr>\n",
       "  </tbody>\n",
       "</table>\n",
       "</div>"
      ],
      "text/plain": [
       "               profit\n",
       "state                \n",
       "California   97427.84\n",
       "Florida     109543.12\n",
       "New York    108552.04"
      ]
     },
     "execution_count": 143,
     "metadata": {},
     "output_type": "execute_result"
    }
   ],
   "source": [
    "median_state=df.groupby('state').agg({'profit':'median'})\n",
    "median_state"
   ]
  },
  {
   "cell_type": "code",
   "execution_count": 108,
   "id": "dcb7132a",
   "metadata": {},
   "outputs": [],
   "source": [
    "#Медианное значение прибыли для каждого штата\n",
    "median_california=median_state.iloc[0][0]\n",
    "median_florida=median_state.iloc[1][0]\n",
    "median_newyork=median_state.iloc[2][0]"
   ]
  },
  {
   "cell_type": "code",
   "execution_count": 139,
   "id": "621a5b35",
   "metadata": {},
   "outputs": [
    {
     "data": {
      "text/plain": [
       "profit    8\n",
       "dtype: int64"
      ]
     },
     "execution_count": 139,
     "metadata": {},
     "output_type": "execute_result"
    }
   ],
   "source": [
    "df[(df['state']=='California') & (df['profit']>median_california)].agg({'profit':'count'})"
   ]
  },
  {
   "cell_type": "code",
   "execution_count": 140,
   "id": "c2eb9785",
   "metadata": {},
   "outputs": [
    {
     "data": {
      "text/plain": [
       "profit    8\n",
       "dtype: int64"
      ]
     },
     "execution_count": 140,
     "metadata": {},
     "output_type": "execute_result"
    }
   ],
   "source": [
    "df[(df['state']=='Florida') & (df['profit']>median_florida)].agg({'profit':'count'})"
   ]
  },
  {
   "cell_type": "code",
   "execution_count": 141,
   "id": "1a772f02",
   "metadata": {},
   "outputs": [
    {
     "data": {
      "text/plain": [
       "profit    8\n",
       "dtype: int64"
      ]
     },
     "execution_count": 141,
     "metadata": {},
     "output_type": "execute_result"
    }
   ],
   "source": [
    "df[(df['state']=='New York') & (df['profit']>median_newyork)].agg({'profit':'count'})"
   ]
  },
  {
   "cell_type": "markdown",
   "id": "bb8219f1",
   "metadata": {},
   "source": [
    "В каждом исследуемом штате (Калифорния, Флорида, Нью-Йорк) количество компаний, у которых значение прибыли больше медианного для каждого штата, равно 8."
   ]
  },
  {
   "cell_type": "markdown",
   "id": "d7e805a8",
   "metadata": {},
   "source": [
    "# Количество компаний, у которых значение прибыли больше медианного  для всего датасета"
   ]
  },
  {
   "cell_type": "code",
   "execution_count": 142,
   "id": "3b23178f",
   "metadata": {},
   "outputs": [
    {
     "data": {
      "text/plain": [
       "107978.19"
      ]
     },
     "execution_count": 142,
     "metadata": {},
     "output_type": "execute_result"
    }
   ],
   "source": [
    "median_df=df.profit.median()\n",
    "median_df"
   ]
  },
  {
   "cell_type": "code",
   "execution_count": 158,
   "id": "d91dd2df",
   "metadata": {},
   "outputs": [
    {
     "data": {
      "text/html": [
       "<div>\n",
       "<style scoped>\n",
       "    .dataframe tbody tr th:only-of-type {\n",
       "        vertical-align: middle;\n",
       "    }\n",
       "\n",
       "    .dataframe tbody tr th {\n",
       "        vertical-align: top;\n",
       "    }\n",
       "\n",
       "    .dataframe thead th {\n",
       "        text-align: right;\n",
       "    }\n",
       "</style>\n",
       "<table border=\"1\" class=\"dataframe\">\n",
       "  <thead>\n",
       "    <tr style=\"text-align: right;\">\n",
       "      <th></th>\n",
       "      <th>state</th>\n",
       "      <th>number_of_companies</th>\n",
       "    </tr>\n",
       "  </thead>\n",
       "  <tbody>\n",
       "    <tr>\n",
       "      <th>0</th>\n",
       "      <td>California</td>\n",
       "      <td>7</td>\n",
       "    </tr>\n",
       "    <tr>\n",
       "      <th>1</th>\n",
       "      <td>Florida</td>\n",
       "      <td>9</td>\n",
       "    </tr>\n",
       "    <tr>\n",
       "      <th>2</th>\n",
       "      <td>New York</td>\n",
       "      <td>9</td>\n",
       "    </tr>\n",
       "  </tbody>\n",
       "</table>\n",
       "</div>"
      ],
      "text/plain": [
       "        state  number_of_companies\n",
       "0  California                    7\n",
       "1     Florida                    9\n",
       "2    New York                    9"
      ]
     },
     "execution_count": 158,
     "metadata": {},
     "output_type": "execute_result"
    }
   ],
   "source": [
    "df['median_df']=df.profit>df.profit.median() \n",
    "\n",
    "df.query('median_df==True').groupby('state', as_index=False).agg({'profit':'count'}) \\\n",
    ".rename(columns={'profit':'number_of_companies'})"
   ]
  },
  {
   "cell_type": "markdown",
   "id": "d1fb23eb",
   "metadata": {},
   "source": [
    "# Количество компаний, у которых маркетинговые расходы выше 40% и прибыль больше 45 перцентиля"
   ]
  },
  {
   "cell_type": "code",
   "execution_count": 152,
   "id": "f5864773",
   "metadata": {},
   "outputs": [
    {
     "data": {
      "text/plain": [
       "105044.57149999999"
      ]
     },
     "execution_count": 152,
     "metadata": {},
     "output_type": "execute_result"
    }
   ],
   "source": [
    "percentile=np.percentile(df.profit, 45)\n",
    "percentile"
   ]
  },
  {
   "cell_type": "code",
   "execution_count": 170,
   "id": "39f2dda7",
   "metadata": {},
   "outputs": [
    {
     "data": {
      "text/html": [
       "<div>\n",
       "<style scoped>\n",
       "    .dataframe tbody tr th:only-of-type {\n",
       "        vertical-align: middle;\n",
       "    }\n",
       "\n",
       "    .dataframe tbody tr th {\n",
       "        vertical-align: top;\n",
       "    }\n",
       "\n",
       "    .dataframe thead th {\n",
       "        text-align: right;\n",
       "    }\n",
       "</style>\n",
       "<table border=\"1\" class=\"dataframe\">\n",
       "  <thead>\n",
       "    <tr style=\"text-align: right;\">\n",
       "      <th></th>\n",
       "      <th>state</th>\n",
       "      <th>number_of_companies</th>\n",
       "    </tr>\n",
       "  </thead>\n",
       "  <tbody>\n",
       "    <tr>\n",
       "      <th>0</th>\n",
       "      <td>California</td>\n",
       "      <td>7</td>\n",
       "    </tr>\n",
       "    <tr>\n",
       "      <th>1</th>\n",
       "      <td>Florida</td>\n",
       "      <td>9</td>\n",
       "    </tr>\n",
       "    <tr>\n",
       "      <th>2</th>\n",
       "      <td>New York</td>\n",
       "      <td>8</td>\n",
       "    </tr>\n",
       "  </tbody>\n",
       "</table>\n",
       "</div>"
      ],
      "text/plain": [
       "        state  number_of_companies\n",
       "0  California                    7\n",
       "1     Florida                    9\n",
       "2    New York                    8"
      ]
     },
     "execution_count": 170,
     "metadata": {},
     "output_type": "execute_result"
    }
   ],
   "source": [
    "df.query('share_marketing_spend>0.40 & profit>@percentile').groupby('state', as_index=False) \\\n",
    ".agg({'profit':'count'}).rename(columns={'profit':'number_of_companies'})"
   ]
  },
  {
   "cell_type": "code",
   "execution_count": 166,
   "id": "2348f046",
   "metadata": {},
   "outputs": [
    {
     "data": {
      "text/html": [
       "<div>\n",
       "<style scoped>\n",
       "    .dataframe tbody tr th:only-of-type {\n",
       "        vertical-align: middle;\n",
       "    }\n",
       "\n",
       "    .dataframe tbody tr th {\n",
       "        vertical-align: top;\n",
       "    }\n",
       "\n",
       "    .dataframe thead th {\n",
       "        text-align: right;\n",
       "    }\n",
       "</style>\n",
       "<table border=\"1\" class=\"dataframe\">\n",
       "  <thead>\n",
       "    <tr style=\"text-align: right;\">\n",
       "      <th></th>\n",
       "      <th>state</th>\n",
       "      <th>profit</th>\n",
       "    </tr>\n",
       "  </thead>\n",
       "  <tbody>\n",
       "    <tr>\n",
       "      <th>0</th>\n",
       "      <td>California</td>\n",
       "      <td>138998.581429</td>\n",
       "    </tr>\n",
       "    <tr>\n",
       "      <th>1</th>\n",
       "      <td>Florida</td>\n",
       "      <td>141850.465556</td>\n",
       "    </tr>\n",
       "    <tr>\n",
       "      <th>2</th>\n",
       "      <td>New York</td>\n",
       "      <td>144939.897500</td>\n",
       "    </tr>\n",
       "  </tbody>\n",
       "</table>\n",
       "</div>"
      ],
      "text/plain": [
       "        state         profit\n",
       "0  California  138998.581429\n",
       "1     Florida  141850.465556\n",
       "2    New York  144939.897500"
      ]
     },
     "execution_count": 166,
     "metadata": {},
     "output_type": "execute_result"
    }
   ],
   "source": [
    "#Среднее значение прибыли по таким компаниям\n",
    "df_1=df.query('share_marketing_spend>0.40 & profit>@percentile').groupby('state', as_index=False) \\\n",
    ".agg({'profit':'mean'})\n",
    "df_1"
   ]
  },
  {
   "cell_type": "code",
   "execution_count": 167,
   "id": "e6d0a49d",
   "metadata": {},
   "outputs": [
    {
     "data": {
      "text/plain": [
       "<AxesSubplot:xlabel='state', ylabel='profit'>"
      ]
     },
     "execution_count": 167,
     "metadata": {},
     "output_type": "execute_result"
    },
    {
     "data": {
      "image/png": "[encoded data removed]",
      "text/plain": [
       "<Figure size 432x288 with 1 Axes>"
      ]
     },
     "metadata": {
      "needs_background": "light"
     },
     "output_type": "display_data"
    }
   ],
   "source": [
    "sns.barplot(data=df_1, x='state', y='profit')"
   ]
  },
  {
   "cell_type": "markdown",
   "id": "ce35aed8",
   "metadata": {},
   "source": [
    "# Корреляционная матрица"
   ]
  },
  {
   "cell_type": "code",
   "execution_count": 172,
   "id": "d6e9d540",
   "metadata": {},
   "outputs": [],
   "source": [
    "corr_m=df[['r_d_spend', 'administration', 'marketing_spend', 'profit']].corr()"
   ]
  },
  {
   "cell_type": "code",
   "execution_count": 173,
   "id": "b4004f54",
   "metadata": {},
   "outputs": [
    {
     "data": {
      "text/html": [
       "<div>\n",
       "<style scoped>\n",
       "    .dataframe tbody tr th:only-of-type {\n",
       "        vertical-align: middle;\n",
       "    }\n",
       "\n",
       "    .dataframe tbody tr th {\n",
       "        vertical-align: top;\n",
       "    }\n",
       "\n",
       "    .dataframe thead th {\n",
       "        text-align: right;\n",
       "    }\n",
       "</style>\n",
       "<table border=\"1\" class=\"dataframe\">\n",
       "  <thead>\n",
       "    <tr style=\"text-align: right;\">\n",
       "      <th></th>\n",
       "      <th>r_d_spend</th>\n",
       "      <th>administration</th>\n",
       "      <th>marketing_spend</th>\n",
       "      <th>profit</th>\n",
       "    </tr>\n",
       "  </thead>\n",
       "  <tbody>\n",
       "    <tr>\n",
       "      <th>r_d_spend</th>\n",
       "      <td>1.000000</td>\n",
       "      <td>0.241955</td>\n",
       "      <td>0.724248</td>\n",
       "      <td>0.972900</td>\n",
       "    </tr>\n",
       "    <tr>\n",
       "      <th>administration</th>\n",
       "      <td>0.241955</td>\n",
       "      <td>1.000000</td>\n",
       "      <td>-0.032154</td>\n",
       "      <td>0.200717</td>\n",
       "    </tr>\n",
       "    <tr>\n",
       "      <th>marketing_spend</th>\n",
       "      <td>0.724248</td>\n",
       "      <td>-0.032154</td>\n",
       "      <td>1.000000</td>\n",
       "      <td>0.747766</td>\n",
       "    </tr>\n",
       "    <tr>\n",
       "      <th>profit</th>\n",
       "      <td>0.972900</td>\n",
       "      <td>0.200717</td>\n",
       "      <td>0.747766</td>\n",
       "      <td>1.000000</td>\n",
       "    </tr>\n",
       "  </tbody>\n",
       "</table>\n",
       "</div>"
      ],
      "text/plain": [
       "                 r_d_spend  administration  marketing_spend    profit\n",
       "r_d_spend         1.000000        0.241955         0.724248  0.972900\n",
       "administration    0.241955        1.000000        -0.032154  0.200717\n",
       "marketing_spend   0.724248       -0.032154         1.000000  0.747766\n",
       "profit            0.972900        0.200717         0.747766  1.000000"
      ]
     },
     "execution_count": 173,
     "metadata": {},
     "output_type": "execute_result"
    }
   ],
   "source": [
    "corr_m"
   ]
  },
  {
   "cell_type": "code",
   "execution_count": 175,
   "id": "9bf922a2",
   "metadata": {},
   "outputs": [
    {
     "data": {
      "text/plain": [
       "<AxesSubplot:>"
      ]
     },
     "execution_count": 175,
     "metadata": {},
     "output_type": "execute_result"
    },
    {
     "data": {
      "image/png": "[encoded data removed]",
      "text/plain": [
       "<Figure size 576x288 with 2 Axes>"
      ]
     },
     "metadata": {
      "needs_background": "light"
     },
     "output_type": "display_data"
    }
   ],
   "source": [
    "plt.figure(figsize=(8,4))\n",
    "sns.heatmap(corr_m, center=0, annot=True)"
   ]
  },
  {
   "cell_type": "markdown",
   "id": "c438c159",
   "metadata": {},
   "source": [
    "Наибольшую связь с прибылью имеют расходы на разработку (R&D spend) - коэффициент корреляции равен 0.97. "
   ]
  },
  {
   "cell_type": "markdown",
   "id": "71af3d12",
   "metadata": {},
   "source": [
    "# Линейная модель регрессии"
   ]
  },
  {
   "cell_type": "code",
   "execution_count": 176,
   "id": "7473d6bf",
   "metadata": {},
   "outputs": [],
   "source": [
    "#Построение линейной модели регрессии с включением фактора R&D spend"
   ]
  },
  {
   "cell_type": "code",
   "execution_count": 178,
   "id": "cae5764c",
   "metadata": {},
   "outputs": [],
   "source": [
    "X=df['r_d_spend']\n",
    "y=df['profit']"
   ]
  },
  {
   "cell_type": "code",
   "execution_count": 179,
   "id": "df360975",
   "metadata": {},
   "outputs": [
    {
     "data": {
      "text/plain": [
       "LinregressResult(slope=0.8542913709388089, intercept=49032.899141252135, rvalue=0.9729004656594832, pvalue=3.500322243690248e-32, stderr=0.029305591498200445, intercept_stderr=2537.8969493237905)"
      ]
     },
     "execution_count": 179,
     "metadata": {},
     "output_type": "execute_result"
    }
   ],
   "source": [
    "result=scipy.stats.linregress(X, y)\n",
    "result"
   ]
  },
  {
   "cell_type": "markdown",
   "id": "ff7f8cd8",
   "metadata": {},
   "source": [
    "При 1 шаге фактора R&D spend переменная profit увеличивается на 0.85. Связь между показателями статистически значимая - p-value<0.05."
   ]
  },
  {
   "cell_type": "code",
   "execution_count": 180,
   "id": "51d9be7c",
   "metadata": {},
   "outputs": [
    {
     "data": {
      "text/plain": [
       "0.9465353160804392"
      ]
     },
     "execution_count": 180,
     "metadata": {},
     "output_type": "execute_result"
    }
   ],
   "source": [
    "#Вычисление коэффициента детерминации\n",
    "r_sq=result.rvalue**2\n",
    "r_sq"
   ]
  },
  {
   "cell_type": "markdown",
   "id": "41b8bfae",
   "metadata": {},
   "source": [
    "Построенная линейная модель примерно на 94% объясняет дисперсию (изменчивость) в переменной profit."
   ]
  },
  {
   "cell_type": "code",
   "execution_count": 181,
   "id": "ba538aac",
   "metadata": {},
   "outputs": [
    {
     "data": {
      "text/plain": [
       "<matplotlib.legend.Legend at 0x7fea85c23700>"
      ]
     },
     "execution_count": 181,
     "metadata": {},
     "output_type": "execute_result"
    },
    {
     "data": {
      "image/png": "[encoded data removed]",
      "text/plain": [
       "<Figure size 432x288 with 1 Axes>"
      ]
     },
     "metadata": {
      "needs_background": "light"
     },
     "output_type": "display_data"
    }
   ],
   "source": [
    "plt.scatter(X, y, label='Исходные данные')\n",
    "plt.plot(X, result.intercept + result.slope * X, 'r', label='Линия регрессии')\n",
    "plt.legend()"
   ]
  },
  {
   "cell_type": "code",
   "execution_count": 182,
   "id": "2b030a2d",
   "metadata": {},
   "outputs": [],
   "source": [
    "#Построение линейной модели регрессии с включением фактора Administration"
   ]
  },
  {
   "cell_type": "code",
   "execution_count": 183,
   "id": "6e9a9962",
   "metadata": {},
   "outputs": [],
   "source": [
    "X=df['administration']\n",
    "y=df['profit']"
   ]
  },
  {
   "cell_type": "code",
   "execution_count": 184,
   "id": "8b2e8a2f",
   "metadata": {},
   "outputs": [
    {
     "data": {
      "text/plain": [
       "LinregressResult(slope=0.2887492023552266, intercept=76974.47130541757, rvalue=0.20071656826872125, pvalue=0.16221739470358265, stderr=0.20341717021003744, intercept_stderr=25320.183334360594)"
      ]
     },
     "execution_count": 184,
     "metadata": {},
     "output_type": "execute_result"
    }
   ],
   "source": [
    "result=scipy.stats.linregress(X, y)\n",
    "result"
   ]
  },
  {
   "cell_type": "markdown",
   "id": "25c4bd45",
   "metadata": {},
   "source": [
    "Связи между фактором Administration и profit нет - p-value>0.05."
   ]
  },
  {
   "cell_type": "code",
   "execution_count": 185,
   "id": "cad6e3aa",
   "metadata": {},
   "outputs": [
    {
     "data": {
      "text/plain": [
       "<matplotlib.legend.Legend at 0x7fea85ec06d0>"
      ]
     },
     "execution_count": 185,
     "metadata": {},
     "output_type": "execute_result"
    },
    {
     "data": {
      "image/png": "[encoded data removed]",
      "text/plain": [
       "<Figure size 432x288 with 1 Axes>"
      ]
     },
     "metadata": {
      "needs_background": "light"
     },
     "output_type": "display_data"
    }
   ],
   "source": [
    "plt.scatter(X, y, label='Исходные данные')\n",
    "plt.plot(X, result.intercept + result.slope * X, 'r', label='Линия регрессии')\n",
    "plt.legend()"
   ]
  },
  {
   "cell_type": "code",
   "execution_count": 186,
   "id": "2cbf1825",
   "metadata": {},
   "outputs": [],
   "source": [
    "#Построение линейной модели регрессии с включением фактора Marketing Spend "
   ]
  },
  {
   "cell_type": "code",
   "execution_count": 187,
   "id": "7400c774",
   "metadata": {},
   "outputs": [],
   "source": [
    "X=df['marketing_spend']\n",
    "y=df['profit']"
   ]
  },
  {
   "cell_type": "code",
   "execution_count": 188,
   "id": "9a2b55b8",
   "metadata": {},
   "outputs": [
    {
     "data": {
      "text/plain": [
       "LinregressResult(slope=0.24645926444976782, intercept=60003.5488157717, rvalue=0.7477657217414767, pvalue=4.3810731820309183e-10, stderr=0.0315865823713033, intercept_stderr=7684.530161145417)"
      ]
     },
     "execution_count": 188,
     "metadata": {},
     "output_type": "execute_result"
    }
   ],
   "source": [
    "result=scipy.stats.linregress(X, y)\n",
    "result"
   ]
  },
  {
   "cell_type": "markdown",
   "id": "0de249a1",
   "metadata": {},
   "source": [
    "При 1 шаге фактора Marketing Spend переменная profit увеличивается на 0.246. Связь между показателями статистически значимая - p-value<0.05."
   ]
  },
  {
   "cell_type": "code",
   "execution_count": 189,
   "id": "af6a0e00",
   "metadata": {},
   "outputs": [
    {
     "data": {
      "text/plain": [
       "0.5591535746115516"
      ]
     },
     "execution_count": 189,
     "metadata": {},
     "output_type": "execute_result"
    }
   ],
   "source": [
    "#Вычисление коэффициента детерминации\n",
    "r_sq=result.rvalue**2\n",
    "r_sq"
   ]
  },
  {
   "cell_type": "markdown",
   "id": "9092f01a",
   "metadata": {},
   "source": [
    "Построенная линейная модель примерно на 56% объясняет дисперсию (изменчивость) в переменной profit. Коэффициент детерминации невысокий, но приемлимый."
   ]
  },
  {
   "cell_type": "code",
   "execution_count": 190,
   "id": "43c1db51",
   "metadata": {},
   "outputs": [
    {
     "data": {
      "text/plain": [
       "<matplotlib.legend.Legend at 0x7fea85fc8070>"
      ]
     },
     "execution_count": 190,
     "metadata": {},
     "output_type": "execute_result"
    },
    {
     "data": {
      "image/png": "[encoded data removed]",
      "text/plain": [
       "<Figure size 432x288 with 1 Axes>"
      ]
     },
     "metadata": {
      "needs_background": "light"
     },
     "output_type": "display_data"
    }
   ],
   "source": [
    "plt.scatter(X, y, label='Исходные данные')\n",
    "plt.plot(X, result.intercept + result.slope * X, 'r', label='Линия регрессии')\n",
    "plt.legend()"
   ]
  },
  {
   "cell_type": "markdown",
   "id": "84b17cb6",
   "metadata": {},
   "source": [
    "# Модель множественной регрессии"
   ]
  },
  {
   "cell_type": "code",
   "execution_count": 231,
   "id": "135e0d72",
   "metadata": {},
   "outputs": [
    {
     "data": {
      "text/html": [
       "<div>\n",
       "<style scoped>\n",
       "    .dataframe tbody tr th:only-of-type {\n",
       "        vertical-align: middle;\n",
       "    }\n",
       "\n",
       "    .dataframe tbody tr th {\n",
       "        vertical-align: top;\n",
       "    }\n",
       "\n",
       "    .dataframe thead th {\n",
       "        text-align: right;\n",
       "    }\n",
       "</style>\n",
       "<table border=\"1\" class=\"dataframe\">\n",
       "  <thead>\n",
       "    <tr style=\"text-align: right;\">\n",
       "      <th></th>\n",
       "      <th>r_d_spend</th>\n",
       "      <th>administration</th>\n",
       "      <th>marketing_spend</th>\n",
       "    </tr>\n",
       "  </thead>\n",
       "  <tbody>\n",
       "    <tr>\n",
       "      <th>0</th>\n",
       "      <td>165349.20</td>\n",
       "      <td>136897.80</td>\n",
       "      <td>471784.10</td>\n",
       "    </tr>\n",
       "    <tr>\n",
       "      <th>1</th>\n",
       "      <td>162597.70</td>\n",
       "      <td>151377.59</td>\n",
       "      <td>443898.53</td>\n",
       "    </tr>\n",
       "    <tr>\n",
       "      <th>2</th>\n",
       "      <td>153441.51</td>\n",
       "      <td>101145.55</td>\n",
       "      <td>407934.54</td>\n",
       "    </tr>\n",
       "    <tr>\n",
       "      <th>3</th>\n",
       "      <td>144372.41</td>\n",
       "      <td>118671.85</td>\n",
       "      <td>383199.62</td>\n",
       "    </tr>\n",
       "    <tr>\n",
       "      <th>4</th>\n",
       "      <td>142107.34</td>\n",
       "      <td>91391.77</td>\n",
       "      <td>366168.42</td>\n",
       "    </tr>\n",
       "  </tbody>\n",
       "</table>\n",
       "</div>"
      ],
      "text/plain": [
       "   r_d_spend  administration  marketing_spend\n",
       "0  165349.20       136897.80        471784.10\n",
       "1  162597.70       151377.59        443898.53\n",
       "2  153441.51       101145.55        407934.54\n",
       "3  144372.41       118671.85        383199.62\n",
       "4  142107.34        91391.77        366168.42"
      ]
     },
     "execution_count": 231,
     "metadata": {},
     "output_type": "execute_result"
    }
   ],
   "source": [
    "#Исключаем зависимую переменную\n",
    "X_mult=df[['r_d_spend', 'administration', 'marketing_spend']]\n",
    "y=df['profit']\n",
    "X_mult.head()"
   ]
  },
  {
   "cell_type": "code",
   "execution_count": 232,
   "id": "1b6ac6c5",
   "metadata": {},
   "outputs": [
    {
     "name": "stderr",
     "output_type": "stream",
     "text": [
      "/var/folders/4f/zkg9tmbs22l_kzpykf2vs61h0000gn/T/ipykernel_1931/904389008.py:2: SettingWithCopyWarning: \n",
      "A value is trying to be set on a copy of a slice from a DataFrame.\n",
      "Try using .loc[row_indexer,col_indexer] = value instead\n",
      "\n",
      "See the caveats in the documentation: https://pandas.pydata.org/pandas-docs/stable/user_guide/indexing.html#returning-a-view-versus-a-copy\n",
      "  X_mult['const']=1\n"
     ]
    },
    {
     "data": {
      "text/html": [
       "<div>\n",
       "<style scoped>\n",
       "    .dataframe tbody tr th:only-of-type {\n",
       "        vertical-align: middle;\n",
       "    }\n",
       "\n",
       "    .dataframe tbody tr th {\n",
       "        vertical-align: top;\n",
       "    }\n",
       "\n",
       "    .dataframe thead th {\n",
       "        text-align: right;\n",
       "    }\n",
       "</style>\n",
       "<table border=\"1\" class=\"dataframe\">\n",
       "  <thead>\n",
       "    <tr style=\"text-align: right;\">\n",
       "      <th></th>\n",
       "      <th>r_d_spend</th>\n",
       "      <th>administration</th>\n",
       "      <th>marketing_spend</th>\n",
       "      <th>const</th>\n",
       "    </tr>\n",
       "  </thead>\n",
       "  <tbody>\n",
       "    <tr>\n",
       "      <th>0</th>\n",
       "      <td>165349.20</td>\n",
       "      <td>136897.80</td>\n",
       "      <td>471784.10</td>\n",
       "      <td>1</td>\n",
       "    </tr>\n",
       "    <tr>\n",
       "      <th>1</th>\n",
       "      <td>162597.70</td>\n",
       "      <td>151377.59</td>\n",
       "      <td>443898.53</td>\n",
       "      <td>1</td>\n",
       "    </tr>\n",
       "    <tr>\n",
       "      <th>2</th>\n",
       "      <td>153441.51</td>\n",
       "      <td>101145.55</td>\n",
       "      <td>407934.54</td>\n",
       "      <td>1</td>\n",
       "    </tr>\n",
       "    <tr>\n",
       "      <th>3</th>\n",
       "      <td>144372.41</td>\n",
       "      <td>118671.85</td>\n",
       "      <td>383199.62</td>\n",
       "      <td>1</td>\n",
       "    </tr>\n",
       "    <tr>\n",
       "      <th>4</th>\n",
       "      <td>142107.34</td>\n",
       "      <td>91391.77</td>\n",
       "      <td>366168.42</td>\n",
       "      <td>1</td>\n",
       "    </tr>\n",
       "  </tbody>\n",
       "</table>\n",
       "</div>"
      ],
      "text/plain": [
       "   r_d_spend  administration  marketing_spend  const\n",
       "0  165349.20       136897.80        471784.10      1\n",
       "1  162597.70       151377.59        443898.53      1\n",
       "2  153441.51       101145.55        407934.54      1\n",
       "3  144372.41       118671.85        383199.62      1\n",
       "4  142107.34        91391.77        366168.42      1"
      ]
     },
     "execution_count": 232,
     "metadata": {},
     "output_type": "execute_result"
    }
   ],
   "source": [
    "#Добавляем константу\n",
    "X_mult['const']=1\n",
    "X_mult.head()"
   ]
  },
  {
   "cell_type": "code",
   "execution_count": 233,
   "id": "2fe14a57",
   "metadata": {},
   "outputs": [
    {
     "name": "stdout",
     "output_type": "stream",
     "text": [
      "                            OLS Regression Results                            \n",
      "==============================================================================\n",
      "Dep. Variable:                 profit   R-squared:                       0.951\n",
      "Model:                            OLS   Adj. R-squared:                  0.948\n",
      "Method:                 Least Squares   F-statistic:                     296.0\n",
      "Date:                Sun, 20 Nov 2022   Prob (F-statistic):           4.53e-30\n",
      "Time:                        15:58:27   Log-Likelihood:                -525.39\n",
      "No. Observations:                  50   AIC:                             1059.\n",
      "Df Residuals:                      46   BIC:                             1066.\n",
      "Df Model:                           3                                         \n",
      "Covariance Type:            nonrobust                                         \n",
      "===================================================================================\n",
      "                      coef    std err          t      P>|t|      [0.025      0.975]\n",
      "-----------------------------------------------------------------------------------\n",
      "r_d_spend           0.8057      0.045     17.846      0.000       0.715       0.897\n",
      "administration     -0.0268      0.051     -0.526      0.602      -0.130       0.076\n",
      "marketing_spend     0.0272      0.016      1.655      0.105      -0.006       0.060\n",
      "const            5.012e+04   6572.353      7.626      0.000    3.69e+04    6.34e+04\n",
      "==============================================================================\n",
      "Omnibus:                       14.838   Durbin-Watson:                   1.282\n",
      "Prob(Omnibus):                  0.001   Jarque-Bera (JB):               21.442\n",
      "Skew:                          -0.949   Prob(JB):                     2.21e-05\n",
      "Kurtosis:                       5.586   Cond. No.                     1.40e+06\n",
      "==============================================================================\n",
      "\n",
      "Notes:\n",
      "[1] Standard Errors assume that the covariance matrix of the errors is correctly specified.\n",
      "[2] The condition number is large, 1.4e+06. This might indicate that there are\n",
      "strong multicollinearity or other numerical problems.\n"
     ]
    }
   ],
   "source": [
    "model=sm.OLS(y, X_mult)\n",
    "result_mult=model.fit()\n",
    "print(result_mult.summary())"
   ]
  },
  {
   "cell_type": "markdown",
   "id": "0fbd581d",
   "metadata": {},
   "source": [
    "Коэффициент детерминации равен 0.948. Выбранная модель объясняет 94.8% дисперсии в переменной profit.\n",
    "\n",
    "Статистически значимым коэффициентом регрессии является коэффициент фактора R&D spend (p-value<0.05). Оставшиеся 2 фактора являются незначимыми. При 1 шаге фактора R&D spend переменная profit увеличивается на 0.8057.\n",
    "\n",
    "Так как 2 из 3 фактора являются незначимыми, а также из-за мультиколлинеарности факторов R&D spend и Marketing Spend, данную модель лучше не использовать для прогнозирования. \n",
    "\n",
    "**Для прогнозирования лучше всего использовать однофакторную линейную модель регрессии с включением фактора R&D spend.**"
   ]
  }
 ],
 "metadata": {
  "kernelspec": {
   "display_name": "Python 3 (ipykernel)",
   "language": "python",
   "name": "python3"
  },
  "language_info": {
   "codemirror_mode": {
    "name": "ipython",
    "version": 3
   },
   "file_extension": ".py",
   "mimetype": "text/x-python",
   "name": "python",
   "nbconvert_exporter": "python",
   "pygments_lexer": "ipython3",
   "version": "3.9.12"
  }
 },
 "nbformat": 4,
 "nbformat_minor": 5
}
